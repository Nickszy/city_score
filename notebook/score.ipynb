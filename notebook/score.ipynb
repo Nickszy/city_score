{
 "cells": [
  {
   "cell_type": "code",
   "execution_count": 21,
   "metadata": {
    "scrolled": true
   },
   "outputs": [
    {
     "data": {
      "text/plain": [
       "['上海市_113个指标.xls',\n",
       " '安徽省合肥_111个指标.xls',\n",
       " '安徽省安庆_112个指标.xls',\n",
       " '安徽省宣城_112个指标.xls',\n",
       " '安徽省池州_112个指标.xls',\n",
       " '安徽省滁州_112个指标.xls',\n",
       " '安徽省芜湖_112个指标.xls',\n",
       " '安徽省铜陵_112个指标.xls',\n",
       " '安徽省马鞍山_111个指标.xls',\n",
       " '江苏省南京市_113个指标.xls',\n",
       " '江苏省南通市_113个指标.xls',\n",
       " '江苏省常州市_113个指标.xls',\n",
       " '江苏省扬州市_113个指标.xls',\n",
       " '江苏省无锡市_113个指标.xls',\n",
       " '江苏省泰州_113个指标.xls',\n",
       " '江苏省盐城市_113个指标.xls',\n",
       " '江苏省苏州市_113个指标.xls',\n",
       " '江苏省镇江市_113个指标.xls',\n",
       " '浙江省台州_112个指标.xls',\n",
       " '浙江省嘉兴_113个指标.xls',\n",
       " '浙江省宁波_113个指标.xls',\n",
       " '浙江省杭州_113个指标.xls',\n",
       " '浙江省温州_113个指标.xls',\n",
       " '浙江省湖州_112个指标.xls',\n",
       " '浙江省绍兴_112个指标.xls',\n",
       " '浙江省舟山_112个指标.xls',\n",
       " '浙江省金华_112个指标.xls']"
      ]
     },
     "execution_count": 21,
     "metadata": {},
     "output_type": "execute_result"
    }
   ],
   "source": [
    "import pandas as pd\n",
    "import numpy as np\n",
    "import os\n",
    "f_base = '../长三角城市年度数据/'\n",
    "files = os.listdir(f_base)\n",
    "files"
   ]
  },
  {
   "cell_type": "code",
   "execution_count": 22,
   "metadata": {},
   "outputs": [],
   "source": [
    "def Standard_data(data):\n",
    "    '''\n",
    "    s = （s - min）/（max-min）\n",
    "    '''\n",
    "#     for i in data.columns:\n",
    "#         data[i]=round((data[i]-np.mean(data[i]))/(np.max(data[i])-np.min(data[i])),3)\n",
    "    data = (data - data.min()) / (data.max() - data.min())\n",
    "    return data"
   ]
  },
  {
   "cell_type": "code",
   "execution_count": 23,
   "metadata": {},
   "outputs": [],
   "source": [
    "def Sum_score(data,col):\n",
    "    '''\n",
    "    分数总和命名为col\n",
    "    将小分加起来\n",
    "    '''\n",
    "    sum_score = pd.DataFrame(columns=col)\n",
    "    for i in data.index:\n",
    "        sum_score.loc[i] = np.mean(data.loc[i])\n",
    "    return sum_score"
   ]
  },
  {
   "cell_type": "code",
   "execution_count": 24,
   "metadata": {},
   "outputs": [],
   "source": [
    "def Eduscore(data,localname,eduscore):\n",
    "    local_eduscore = pd.DataFrame()\n",
    "    local_eduscore['教育投入占比'] = data['一般公共预算支出_教育_市辖区']/data['GDP_市辖区']\n",
    "    local_eduscore['师生比'] = (data['普通高等学校在校生数_市辖区']+data['普通中学在校生数_市辖区']+data['普通小学在校生数_市辖区'])/(data['普通高等学校专任教师数_市辖区']+data['普通中学专任教师数_市辖区']+data['普通小学专任教师数_市辖区'])\n",
    "    local_eduscore['公共图书馆占比'] = data['公共图书馆总藏量_市辖区'] / data['城市户籍人口数']\n",
    "    eduscore1 = pd.DataFrame(columns = ['教育投入占比','师生比','公共图书馆占比'])\n",
    "    eduscore1.loc[localname] = [np.mean(local_eduscore['教育投入占比']),np.mean(local_eduscore['师生比']),np.mean(local_eduscore['公共图书馆占比'])]\n",
    "    eduscore =pd.concat([eduscore,eduscore1],axis=0)\n",
    "    return eduscore"
   ]
  },
  {
   "cell_type": "code",
   "execution_count": 25,
   "metadata": {},
   "outputs": [],
   "source": [
    "def Score():\n",
    "    score = pd.DataFrame()\n",
    "    eduscore = pd.DataFrame()\n",
    "    for f in files:\n",
    "        '''\n",
    "        每个地区数据预处理\n",
    "        本次只根据2016年的数据进行计算\n",
    "        '''\n",
    "        data = pd.read_excel(f_base+f)\n",
    "        data['地区']= data.iloc[0,1]\n",
    "        localname = data.iloc[0,1]\n",
    "        data.drop(index=[0,1,2],inplace=True)\n",
    "        data.index=data['指标']\n",
    "        data.index.name='年份'\n",
    "        data.drop(columns=['指标'],inplace=True)\n",
    "        data.columns.name='指标'\n",
    "        # data = data.convert_dtypes()\n",
    "        data.describe()\n",
    "        '''计算得分'''\n",
    "        eduscore = Eduscore(data,localname,eduscore)\n",
    "    # eduscore\n",
    "    eduscore.to_excel('../细分指标/教育细分指标.xlsx')\n",
    "    eduscore = Standard_data(eduscore)\n",
    "    plt = eduscore.plot.bar(figsize=(15,10),title = '教育细分指标')\n",
    "    img = plt.get_figure()\n",
    "    img.savefig('../image/eduscore.png')\n",
    "    eduscore = round(Sum_score((eduscore),['教育得分'])*10,1)\n",
    "    \n",
    "    # score\n",
    "    score=pd.concat([score,eduscore],axis = 1)\n",
    "    return score"
   ]
  },
  {
   "cell_type": "code",
   "execution_count": 29,
   "metadata": {
    "scrolled": false
   },
   "outputs": [
    {
     "data": {
      "text/html": [
       "<div>\n",
       "<style scoped>\n",
       "    .dataframe tbody tr th:only-of-type {\n",
       "        vertical-align: middle;\n",
       "    }\n",
       "\n",
       "    .dataframe tbody tr th {\n",
       "        vertical-align: top;\n",
       "    }\n",
       "\n",
       "    .dataframe thead th {\n",
       "        text-align: right;\n",
       "    }\n",
       "</style>\n",
       "<table border=\"1\" class=\"dataframe\">\n",
       "  <thead>\n",
       "    <tr style=\"text-align: right;\">\n",
       "      <th></th>\n",
       "      <th>教育得分</th>\n",
       "    </tr>\n",
       "  </thead>\n",
       "  <tbody>\n",
       "    <tr>\n",
       "      <th>上海市</th>\n",
       "      <td>6.8</td>\n",
       "    </tr>\n",
       "    <tr>\n",
       "      <th>合肥市</th>\n",
       "      <td>5.0</td>\n",
       "    </tr>\n",
       "    <tr>\n",
       "      <th>安庆市</th>\n",
       "      <td>2.3</td>\n",
       "    </tr>\n",
       "    <tr>\n",
       "      <th>宣城市</th>\n",
       "      <td>2.3</td>\n",
       "    </tr>\n",
       "    <tr>\n",
       "      <th>池州市</th>\n",
       "      <td>4.2</td>\n",
       "    </tr>\n",
       "    <tr>\n",
       "      <th>滁州市</th>\n",
       "      <td>3.5</td>\n",
       "    </tr>\n",
       "    <tr>\n",
       "      <th>芜湖市</th>\n",
       "      <td>4.0</td>\n",
       "    </tr>\n",
       "    <tr>\n",
       "      <th>铜陵市</th>\n",
       "      <td>2.1</td>\n",
       "    </tr>\n",
       "    <tr>\n",
       "      <th>马鞍山市</th>\n",
       "      <td>2.0</td>\n",
       "    </tr>\n",
       "    <tr>\n",
       "      <th>南京市</th>\n",
       "      <td>5.3</td>\n",
       "    </tr>\n",
       "    <tr>\n",
       "      <th>南通市</th>\n",
       "      <td>3.4</td>\n",
       "    </tr>\n",
       "    <tr>\n",
       "      <th>常州市</th>\n",
       "      <td>2.4</td>\n",
       "    </tr>\n",
       "    <tr>\n",
       "      <th>扬州市</th>\n",
       "      <td>2.8</td>\n",
       "    </tr>\n",
       "    <tr>\n",
       "      <th>无锡市</th>\n",
       "      <td>2.0</td>\n",
       "    </tr>\n",
       "    <tr>\n",
       "      <th>泰州市</th>\n",
       "      <td>2.3</td>\n",
       "    </tr>\n",
       "    <tr>\n",
       "      <th>盐城市</th>\n",
       "      <td>3.1</td>\n",
       "    </tr>\n",
       "    <tr>\n",
       "      <th>苏州市</th>\n",
       "      <td>2.7</td>\n",
       "    </tr>\n",
       "    <tr>\n",
       "      <th>镇江市</th>\n",
       "      <td>3.5</td>\n",
       "    </tr>\n",
       "    <tr>\n",
       "      <th>台州市</th>\n",
       "      <td>1.6</td>\n",
       "    </tr>\n",
       "    <tr>\n",
       "      <th>嘉兴市</th>\n",
       "      <td>3.2</td>\n",
       "    </tr>\n",
       "    <tr>\n",
       "      <th>宁波市</th>\n",
       "      <td>3.2</td>\n",
       "    </tr>\n",
       "    <tr>\n",
       "      <th>杭州市</th>\n",
       "      <td>4.9</td>\n",
       "    </tr>\n",
       "    <tr>\n",
       "      <th>温州市</th>\n",
       "      <td>3.0</td>\n",
       "    </tr>\n",
       "    <tr>\n",
       "      <th>湖州市</th>\n",
       "      <td>1.6</td>\n",
       "    </tr>\n",
       "    <tr>\n",
       "      <th>绍兴市</th>\n",
       "      <td>3.3</td>\n",
       "    </tr>\n",
       "    <tr>\n",
       "      <th>舟山市</th>\n",
       "      <td>3.3</td>\n",
       "    </tr>\n",
       "    <tr>\n",
       "      <th>金华市</th>\n",
       "      <td>4.4</td>\n",
       "    </tr>\n",
       "  </tbody>\n",
       "</table>\n",
       "</div>"
      ],
      "text/plain": [
       "      教育得分\n",
       "上海市    6.8\n",
       "合肥市    5.0\n",
       "安庆市    2.3\n",
       "宣城市    2.3\n",
       "池州市    4.2\n",
       "滁州市    3.5\n",
       "芜湖市    4.0\n",
       "铜陵市    2.1\n",
       "马鞍山市   2.0\n",
       "南京市    5.3\n",
       "南通市    3.4\n",
       "常州市    2.4\n",
       "扬州市    2.8\n",
       "无锡市    2.0\n",
       "泰州市    2.3\n",
       "盐城市    3.1\n",
       "苏州市    2.7\n",
       "镇江市    3.5\n",
       "台州市    1.6\n",
       "嘉兴市    3.2\n",
       "宁波市    3.2\n",
       "杭州市    4.9\n",
       "温州市    3.0\n",
       "湖州市    1.6\n",
       "绍兴市    3.3\n",
       "舟山市    3.3\n",
       "金华市    4.4"
      ]
     },
     "execution_count": 29,
     "metadata": {},
     "output_type": "execute_result"
    },
    {
     "data": {
      "image/png": "[encoded data removed]",
      "text/plain": [
       "<Figure size 1080x720 with 1 Axes>"
      ]
     },
     "metadata": {
      "needs_background": "light"
     },
     "output_type": "display_data"
    }
   ],
   "source": [
    "score = Score()\n",
    "score"
   ]
  },
  {
   "cell_type": "code",
   "execution_count": 30,
   "metadata": {
    "scrolled": false
   },
   "outputs": [
    {
     "data": {
      "image/png": "[encoded data removed]",
      "text/plain": [
       "<Figure size 1080x720 with 1 Axes>"
      ]
     },
     "metadata": {
      "needs_background": "light"
     },
     "output_type": "display_data"
    }
   ],
   "source": [
    "%matplotlib inline\n",
    "plt = score.plot.bar(figsize=(15,10),title = '分数')\n",
    "img = plt.get_figure()\n",
    "img.savefig('../image/score.png')"
   ]
  },
  {
   "cell_type": "code",
   "execution_count": 31,
   "metadata": {},
   "outputs": [],
   "source": [
    "score.to_excel('../指标.xlsx')"
   ]
  }
 ],
 "metadata": {
  "kernelspec": {
   "display_name": "Python 3.7.3 64-bit ('base': conda)",
   "language": "python",
   "name": "python37364bitbasecondac242622e711a4b5c98ce3b5fbadbefed"
  },
  "language_info": {
   "codemirror_mode": {
    "name": "ipython",
    "version": 3
   },
   "file_extension": ".py",
   "mimetype": "text/x-python",
   "name": "python",
   "nbconvert_exporter": "python",
   "pygments_lexer": "ipython3",
   "version": "3.7.3"
  }
 },
 "nbformat": 4,
 "nbformat_minor": 2
}
